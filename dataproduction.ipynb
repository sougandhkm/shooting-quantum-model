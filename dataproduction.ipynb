{
 "cells": [
  {
   "cell_type": "code",
   "execution_count": 8,
   "metadata": {},
   "outputs": [],
   "source": [
    "##the below code is to generate and record data\n",
    "##the potential function inside the schrdinger function can be cahned accordingly\n",
    "##three parameters are given as input randomly\n",
    "##the parameters and the first two eigen values are rcorded in a csv file\n",
    "##Runtime is proptional to the no. data points generated"
   ]
  },
  {
   "cell_type": "code",
   "execution_count": null,
   "metadata": {},
   "outputs": [],
   "source": [
    "import numpy as np\n",
    "from scipy.integrate import odeint\n",
    "from scipy.interpolate import interp1d\n",
    "import scipy\n",
    "import matplotlib.pyplot as plt\n",
    "import os\n",
    "import math\n",
    "import random"
   ]
  },
  {
   "cell_type": "code",
   "execution_count": 9,
   "metadata": {},
   "outputs": [],
   "source": [
    "def scrhod(psi1,x,E,a1,a2,a3):\n",
    "    psi=psi1[0]\n",
    "    y=psi1[1]\n",
    "    r=np.array([y,float((2*(-psi)*(E-(((a1*(math.exp(x))+(a2*(math.exp((-x)))+(a3))))))))])\n",
    " \n",
    "    return r"
   ]
  },
  {
   "cell_type": "code",
   "execution_count": 10,
   "metadata": {},
   "outputs": [],
   "source": [
    "def solver(E,a0,b1,n,a1,a2,a3):\n",
    "    e=E\n",
    "    x = np.linspace(1,0,n)\n",
    "    X0=[a0,b1]\n",
    "    sol = odeint(scrhod, X0, x ,args=(e,a1,a2,a3))\n",
    "    e=e+0.1\n",
    "    t = sol[:, 0]\n",
    "    y = sol[:, 1]\n",
    "    return e,t,y"
   ]
  },
  {
   "cell_type": "code",
   "execution_count": 11,
   "metadata": {},
   "outputs": [],
   "source": [
    "def solver2(E,a0,b1,n,a1,a2,a3):\n",
    "    e=E\n",
    "    x = np.linspace(1,0,n)\n",
    "    X0=[a0,b1]\n",
    "    sol = odeint(scrhod, X0, x ,args=(e,a1,a2,a3))\n",
    "    t = sol[:, 0]\n",
    "    return t[999]"
   ]
  },
  {
   "cell_type": "code",
   "execution_count": 12,
   "metadata": {},
   "outputs": [],
   "source": [
    "def solver3(E,a0,b1,n,a1,a2,a3):\n",
    "    e=E\n",
    "    x = np.linspace(1,0,n)\n",
    "    X0=[a0,b1]\n",
    "    sol = odeint(scrhod, X0, x ,args=(e,a1,a2,a3))\n",
    "    t = sol[:, 0]\n",
    "    return t"
   ]
  },
  {
   "cell_type": "code",
   "execution_count": 13,
   "metadata": {},
   "outputs": [],
   "source": [
    "f= open(\"dataexp.csv\",\"w+\")\n",
    "a=0.01\n",
    "while a<=120:\n",
    "    a1=random.uniform(0,5)\n",
    "    a2=random.uniform(0,5)\n",
    "    a3=random.uniform(0,5)\n",
    "    lo=np.zeros((1000,2))\n",
    "    E=0\n",
    "    for i in range (1,1000):\n",
    "        E,t,y=solver(E,0,1,1000,a1,a2,a3)\n",
    "        lo[i,0]=E-0.1\n",
    "        lo[i,1]=t[999]\n",
    "    k=0\n",
    "    for i in range (1,1000):\n",
    "        if lo[i,1]>k:\n",
    "            b=scipy.optimize.bisect(solver2,lo[i,0],lo[i-1,0],args=(0,1,1000,a1,a2,a3))\n",
    "            break\n",
    "    for j in range (i+1,1000):\n",
    "        if lo[j,1]<k:\n",
    "            b1=scipy.optimize.bisect(solver2,lo[j-1,0],lo[j,0],args=(0,1,1000,a1,a2,a3))\n",
    "            break\n",
    "    f.write('%r\\t%r\\t%r\\t%r\\t%r\\n'%(a1,a2,a3,b,b1))\n",
    "    a=a+0.01\n",
    "f.close()"
   ]
  }
 ],
 "metadata": {
  "kernelspec": {
   "display_name": "Python 3",
   "language": "python",
   "name": "python3"
  },
  "language_info": {
   "codemirror_mode": {
    "name": "ipython",
    "version": 3
   },
   "file_extension": ".py",
   "mimetype": "text/x-python",
   "name": "python",
   "nbconvert_exporter": "python",
   "pygments_lexer": "ipython3",
   "version": "3.6.7"
  }
 },
 "nbformat": 4,
 "nbformat_minor": 2
}
